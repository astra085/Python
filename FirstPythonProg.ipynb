{
  "nbformat": 4,
  "nbformat_minor": 0,
  "metadata": {
    "colab": {
      "name": "FirstPythonProg",
      "provenance": [],
      "collapsed_sections": [],
      "authorship_tag": "ABX9TyMH9Wyt94Mp9vPsRMgLHUDp",
      "include_colab_link": true
    },
    "kernelspec": {
      "name": "python3",
      "display_name": "Python 3"
    }
  },
  "cells": [
    {
      "cell_type": "markdown",
      "metadata": {
        "id": "view-in-github",
        "colab_type": "text"
      },
      "source": [
        "<a href=\"https://colab.research.google.com/github/astra085/Python/blob/main/FirstPythonProg.ipynb\" target=\"_parent\"><img src=\"https://colab.research.google.com/assets/colab-badge.svg\" alt=\"Open In Colab\"/></a>"
      ]
    },
    {
      "cell_type": "code",
      "metadata": {
        "id": "gQhJhU7g9v7r",
        "outputId": "4a9e6761-4274-4576-bef9-e39a5941bf75",
        "colab": {
          "base_uri": "https://localhost:8080/"
        }
      },
      "source": [
        "a = float(input(\"Enter the first number\"))\n"
      ],
      "execution_count": 8,
      "outputs": [
        {
          "output_type": "stream",
          "text": [
            "Enter the first number0.5\n"
          ],
          "name": "stdout"
        }
      ]
    },
    {
      "cell_type": "code",
      "metadata": {
        "id": "icqns0NoDwUU",
        "outputId": "c177d772-0a2f-472b-a003-e759f493a2be",
        "colab": {
          "base_uri": "https://localhost:8080/"
        }
      },
      "source": [
        "b = int(input(\"Enter the second number\"))"
      ],
      "execution_count": 9,
      "outputs": [
        {
          "output_type": "stream",
          "text": [
            "Enter the second number2\n"
          ],
          "name": "stdout"
        }
      ]
    },
    {
      "cell_type": "code",
      "metadata": {
        "id": "lnzBGbIuEMgV",
        "outputId": "af10e600-b697-479e-e194-a022101e6ee3",
        "colab": {
          "base_uri": "https://localhost:8080/"
        }
      },
      "source": [
        "c = int(input(\"Enter the third number\"))\n"
      ],
      "execution_count": 10,
      "outputs": [
        {
          "output_type": "stream",
          "text": [
            "Enter the third number3\n"
          ],
          "name": "stdout"
        }
      ]
    },
    {
      "cell_type": "code",
      "metadata": {
        "id": "lTCIkH9dFITn",
        "outputId": "d6198bd5-4a59-43a0-dff5-466c98a2e975",
        "colab": {
          "base_uri": "https://localhost:8080/"
        }
      },
      "source": [
        "d = int(input(\"enter the fourth number\"))"
      ],
      "execution_count": 11,
      "outputs": [
        {
          "output_type": "stream",
          "text": [
            "enter the fourth number4\n"
          ],
          "name": "stdout"
        }
      ]
    },
    {
      "cell_type": "code",
      "metadata": {
        "id": "KKfZBGN0EaLi",
        "outputId": "5a8fb5a7-9344-40b9-8f22-6c4b82e5258c",
        "colab": {
          "base_uri": "https://localhost:8080/"
        }
      },
      "source": [
        "e = a+b*c/d\n",
        "if e%2==0:\n",
        "  print(\"Even\")\n",
        "else:\n",
        "  print(\"Odd\")"
      ],
      "execution_count": 12,
      "outputs": [
        {
          "output_type": "stream",
          "text": [
            "Even\n"
          ],
          "name": "stdout"
        }
      ]
    },
    {
      "cell_type": "code",
      "metadata": {
        "id": "iAOApP2qIdQ5"
      },
      "source": [
        "def custformula( e ):\n",
        "  f = float(e+e*e)\n",
        "  print( f )\n"
      ],
      "execution_count": 17,
      "outputs": []
    },
    {
      "cell_type": "code",
      "metadata": {
        "id": "UF8qS6AVKMVz",
        "outputId": "c4752353-e062-4547-cbe3-ece8d7c4678c",
        "colab": {
          "base_uri": "https://localhost:8080/"
        }
      },
      "source": [
        "custformula ( e )"
      ],
      "execution_count": 18,
      "outputs": [
        {
          "output_type": "stream",
          "text": [
            "6.0\n"
          ],
          "name": "stdout"
        }
      ]
    },
    {
      "cell_type": "code",
      "metadata": {
        "id": "I43jZkOFKf5w",
        "outputId": "19e442d1-b4b2-4371-96a3-3c63317e3fcc",
        "colab": {
          "base_uri": "https://localhost:8080/"
        }
      },
      "source": [
        "feedback = str(input(\"Enter feedback\"))"
      ],
      "execution_count": 20,
      "outputs": [
        {
          "output_type": "stream",
          "text": [
            "Enter feedback     this looks good!   \n"
          ],
          "name": "stdout"
        }
      ]
    },
    {
      "cell_type": "code",
      "metadata": {
        "id": "qqTrIvw4MQ53",
        "outputId": "4fc531db-922d-4c05-ba29-1ed8051fcf3f",
        "colab": {
          "base_uri": "https://localhost:8080/",
          "height": 35
        }
      },
      "source": [
        "feedback.strip()"
      ],
      "execution_count": 26,
      "outputs": [
        {
          "output_type": "execute_result",
          "data": {
            "application/vnd.google.colaboratory.intrinsic+json": {
              "type": "string"
            },
            "text/plain": [
              "'this looks good!'"
            ]
          },
          "metadata": {
            "tags": []
          },
          "execution_count": 26
        }
      ]
    },
    {
      "cell_type": "code",
      "metadata": {
        "id": "ojS5Rxe4Lfah"
      },
      "source": [
        "myDict = {\"Doe\",\"John\"}"
      ],
      "execution_count": 60,
      "outputs": []
    },
    {
      "cell_type": "code",
      "metadata": {
        "id": "4885GzfYKsoD"
      },
      "source": [
        "mySeparator = \"son\""
      ],
      "execution_count": 64,
      "outputs": []
    },
    {
      "cell_type": "code",
      "metadata": {
        "id": "dvkhV-GuOkqz"
      },
      "source": [
        "x = mySeparator.join(myDict)"
      ],
      "execution_count": 65,
      "outputs": []
    },
    {
      "cell_type": "code",
      "metadata": {
        "id": "YHd6ZWU6On01",
        "outputId": "b77600f3-8125-4c2f-c90a-6277b8bdc473",
        "colab": {
          "base_uri": "https://localhost:8080/"
        }
      },
      "source": [
        "print(x)"
      ],
      "execution_count": 66,
      "outputs": [
        {
          "output_type": "stream",
          "text": [
            "DoesonJohn\n"
          ],
          "name": "stdout"
        }
      ]
    },
    {
      "cell_type": "code",
      "metadata": {
        "id": "vGY78HMUOqcJ"
      },
      "source": [
        ""
      ],
      "execution_count": null,
      "outputs": []
    }
  ]
}